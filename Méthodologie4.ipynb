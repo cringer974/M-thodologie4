{
 "cells": [
  {
   "cell_type": "markdown",
   "metadata": {},
   "source": [
    "<h1 align = \"center\"><u>INITIATION A PYTHON</u></h1>\n",
    "\n",
    "\n",
    "Python est un langage de programmation qui a le vent en poupe en ce moment. Comme tout langage informatique, il comporte un certain nombre de librairie permettant de traiter des domaines spécifiques (table de données, construction de graphiques, calculs mathématiques, etc.).\n",
    "De ce fait, on se propose de traiter certains exercices précédents à l'aide de ce langage en utilisant les Notebooks Jupyter."
   ]
  },
  {
   "cell_type": "markdown",
   "metadata": {},
   "source": [
    "D'abord, quelques bases !\n",
    "1. <strong>Taper</strong> dans la cellule ci-dessous :\n",
    "<strong>print(\"Hello World !\")</strong> et <strong>exécuter</strong> le code en cliquant sur \"Run\" ou \"Exécuter\" (en français) au niveau des icônes de la barre d'outils."
   ]
  },
  {
   "cell_type": "code",
   "execution_count": null,
   "metadata": {},
   "outputs": [],
   "source": []
  },
  {
   "cell_type": "markdown",
   "metadata": {},
   "source": [
    "Vous venez d'écrire un code demandant à l'ordinateur d'afficher un texte spécifique. Intéressons-nous dès à présent à la mise en mémoire ainsi qu'à la réalisation d'opérations mathématiques de base.<br/>\n",
    "2. Dans la cellule suivante, <strong>taper</strong> <strong>\"a=5\"</strong>, puis, en dessous,<strong>\"b=9\"</strong> et <strong>exécuter</strong> le code."
   ]
  },
  {
   "cell_type": "code",
   "execution_count": null,
   "metadata": {},
   "outputs": [],
   "source": []
  },
  {
   "cell_type": "markdown",
   "metadata": {},
   "source": [
    "<br/>\n",
    "Vous venez de mettre 5 dans la variable a et 9 dans la variable b. Attention en programmation le signe \"=\" correspond à une mise en mémoire. Lorsque vous faites référence au symbole mathématiques, il faut taper \"==\".<br/>\n",
    "3. <strong>Afficher</strong> le résultat de l'addition de a et b dans la cellule ci-dessous (ne pas <strong>oublier</strong> de cliquer sur <strong>Exécuter</strong>)."
   ]
  },
  {
   "cell_type": "code",
   "execution_count": null,
   "metadata": {},
   "outputs": [],
   "source": []
  },
  {
   "cell_type": "markdown",
   "metadata": {},
   "source": [
    "4. <strong>Faites</strong> de même pour la multiplication de a par b ainsi que la division de a par b."
   ]
  },
  {
   "cell_type": "code",
   "execution_count": null,
   "metadata": {},
   "outputs": [],
   "source": []
  },
  {
   "cell_type": "markdown",
   "metadata": {},
   "source": [
    "<br/>\n",
    "Les fonctions mathématiques peuvent également être manipulées sous Python. On va prendre l'exemple de f(u)=u².<br/>\n",
    "<strong>Etudier</strong> et <strong>éxécuter</strong> la cellule suivante."
   ]
  },
  {
   "cell_type": "code",
   "execution_count": null,
   "metadata": {},
   "outputs": [],
   "source": [
    "import matplotlib.pyplot as plt\n",
    "u=int(input(\"valeur = ?\"))       # Demande d'entrer un nombre entier que l'on stocke dans la variable u\n",
    "\n",
    "def f(u):                        # On définit la fonction\n",
    "    return u**2                  # les \"**\"signifient puissance\n",
    "\n",
    "print(\"le résultat est :\",f(u))  # affiche une phrase prédéfinie et le résultat du calcul"
   ]
  },
  {
   "cell_type": "markdown",
   "metadata": {},
   "source": [
    "6. <strong>Faites</strong> de même pour la fonction f(p)=4*p**3+6*p**2-7 dans la cellule ci-dessous."
   ]
  },
  {
   "cell_type": "markdown",
   "metadata": {},
   "source": [
    "<br/>\n",
    "Comme dans les autres langages de programmation, Python utilise l'instruction conditionnelle \"if\". <br/>\n",
    "Exemple :\n",
    "\n",
    "    Si n inférieur à 2 \n",
    "           alors {instruction a}\n",
    "           sinon {intruction b}\n",
    "    Fin Si\n",
    "    \n",
    "<strong>Etudier</strong> et <strong>exécuter</strong> le code suivant."
   ]
  },
  {
   "cell_type": "code",
   "execution_count": null,
   "metadata": {},
   "outputs": [],
   "source": [
    "rep=input(\"rep =\") # un texte est stocké dans la mémoire \"rep\"\n",
    "\n",
    "if rep==\"oui\" or rep==\"non\":  # le programme vérifie les conditions => valeurs de rep\n",
    "    print(rep)                # si condition vérifiée, on affiche la valeur de rep\n",
    "else:                         # sinon\n",
    "    print(\"mauvaise réponse\") #le programmz affiche \"mauvaise réponse\""
   ]
  },
  {
   "cell_type": "markdown",
   "metadata": {},
   "source": [
    "<br/>\n",
    "Python présente 2 types de boucle : <br/>\n",
    "- la boucle bornée \"for\" (pour) <br/>\n",
    "- la boucle non bornée \"while\" (tant que) <br/>\n",
    "<br/>\n",
    "<strong>Fonctionnement de la boucle \"for\" :</strong>\n",
    "\n",
    "Pour k variant de d à n\n",
    "<pre>    {intruction} </pre> \n",
    "Fin pour\n",
    "\n",
    "<strong>Fonctionnement de la boucle \"while\" :</strong>\n",
    "\n",
    "Tant que {conditionC}\n",
    "<pre>    {intruction} </pre>\n",
    "Fin Tant que\n",
    "\n",
    "<strong>Etudier</strong> et <strong>exécuter</strong> les codes suivants :"
   ]
  },
  {
   "cell_type": "code",
   "execution_count": null,
   "metadata": {},
   "outputs": [],
   "source": [
    "i = 1\n",
    "while i <= 5:\n",
    "    print(i)\n",
    "    i = i + 1"
   ]
  },
  {
   "cell_type": "markdown",
   "metadata": {},
   "source": [
    "<br/>\n",
    "Les graphiques basés sur les fonctions mathématiques peuvent également être affichés. ici, on travaille toujours avec   f(u)=u².<br/>\n",
    "<strong>Etudier</strong> et <strong>exécuter</strong> le code ci-dessous."
   ]
  },
  {
   "cell_type": "code",
   "execution_count": null,
   "metadata": {},
   "outputs": [],
   "source": [
    "q=[]                                            # On créé des listes q et z qui seront compléter par le programme\n",
    "z=[]\n",
    "pas=1                                           # On avance de 1 en 1\n",
    "graphe1=-100                                    # La valeur de départ de notre variable est de -100\n",
    "\n",
    "def f(u) :                                     \n",
    "  return u**2                                \n",
    "for g in range (-100,100):                      # on initialise une boucle bornée avec une valeur qui va -100 à +100\n",
    "    q.append(graphe1)                           # on incrémente la liste q avec la valeur de graphe1\n",
    "    z.append(f(graphe1))                        # on incrémente la liste z avec la valeur de f(graphe1)\n",
    "    graphe1+=pas\n",
    "     \n",
    "plt.plot(q,z)   # Les valeurs sont stockées\n",
    "plt.show()      # on affiche le graphique"
   ]
  },
  {
   "cell_type": "markdown",
   "metadata": {},
   "source": [
    "6. <strong>Faites</strong> de même pour la fonction f(x)=4p^3+6*p²-7 dans la cellule ci-dessous en utilisant de nouvelles listes et variable.<br/>"
   ]
  },
  {
   "cell_type": "code",
   "execution_count": null,
   "metadata": {},
   "outputs": [],
   "source": []
  },
  {
   "cell_type": "markdown",
   "metadata": {},
   "source": [
    "<br/>\n",
    "Comme dans les autres langages de programmation, Python utilise l'instruction conditionnelle \"if\". <br/>\n",
    "Exemple :\n",
    "\n",
    "    Si n inférieur à 2 \n",
    "           alors {instruction a}\n",
    "           sinon {intruction b}\n",
    "    Fin Si\n",
    "    \n",
    "<strong>Etudier</strong> et <strong>exécuter</strong> le code suivant."
   ]
  },
  {
   "cell_type": "code",
   "execution_count": null,
   "metadata": {},
   "outputs": [],
   "source": [
    "rep=input(\"rep =\") # un texte est stocké dans la mémoire \"rep\"\n",
    "\n",
    "if rep==\"oui\" or rep==\"non\":  # le programme vérifie les conditions => valeurs de rep\n",
    "    print(rep)                # si condition vérifiée, on affiche la valeur de rep\n",
    "else:                         # sinon\n",
    "    print(\"mauvaise réponse\") #le programmz affiche \"mauvaise réponse\""
   ]
  },
  {
   "cell_type": "markdown",
   "metadata": {},
   "source": [
    "<br/>\n",
    "Python présente 2 types de boucle : <br/>\n",
    "- la boucle bornée \"for\" (pour) <br/>\n",
    "- la boucle non bornée \"while\" (tant que) <br/>\n",
    "<br/>\n",
    "<strong>Fonctionnement de la boucle \"for\" :</strong>\n",
    "\n",
    "Pour k variant de d à n\n",
    "<pre>    {intruction} </pre> \n",
    "Fin pour\n",
    "\n",
    "<strong>Fonctionnement de la boucle \"while\" :</strong>\n",
    "\n",
    "Tant que {conditionC}\n",
    "<pre>    {intruction} </pre>\n",
    "Fin Tant que"
   ]
  },
  {
   "cell_type": "code",
   "execution_count": null,
   "metadata": {},
   "outputs": [],
   "source": [
    "i = 1\n",
    "while i <= 5:\n",
    "    print(i)\n",
    "    i = i + 1"
   ]
  },
  {
   "cell_type": "code",
   "execution_count": null,
   "metadata": {},
   "outputs": [],
   "source": []
  },
  {
   "cell_type": "markdown",
   "metadata": {},
   "source": [
    "<br/>\n",
    "Intéressons nous à l'exercice 3 où il fallait réaliser le graphique donnant la variation de la quantité d'ADN en fonction du temps pour des cellules en mitose. Vous aviez travailler à partir d'un tableau, qui, en fait, n'est qu'un mode de rprésentation de 2 listes : le temps et la quantité d'ADN. Sur un graphique, le temps serait en x et la quantité d'ADN en y.<br/>\n",
    "x = [O,3,4,6,8,10,11,12,13,14]   <br/>\n",
    "y = [6.6,6.6,6.6,6.6,13,13.2,13.2,6.6,6.6,6.6]\n",
    "<br/>\n",
    "A partir de ces 2 listes, nous allons pouvoir créer notre graphique à l'aide de la librairie <strong>matplotlib</strong><br/>\n",
    "<strong>Etudier</strong> puis <strong>exécuter</strong> le code suivant."
   ]
  },
  {
   "cell_type": "code",
   "execution_count": null,
   "metadata": {},
   "outputs": [],
   "source": [
    "import matplotlib.pyplot as plt # on importe la partie pyplot de la librairie matplotlib et on utilisen \"plt\" comme alias\n",
    "\n",
    "x = [0,3,4,6,8,10,11,12,13,14] # on créé une liste d'heures que l'on met dans la variable x. \n",
    "y = [6.6,6.6,6.6,6.6,13,13.2,13.2,6.6,6.6,6.6] # idem pour la variable y Attention, les décimales utilisent le \".\" et non \",\".\n",
    "\n",
    "plt.plot(x,y) # on créé le graphique\n",
    "\n",
    "plt.title('Variation de la quantité ADN en fonction du temps') # donne le titre du graphique\n",
    "plt.xlabel('Temps (heures)')  # donne le titre de l'axe X\n",
    "plt.ylabel('Quantité ADN (pg)')  # donne le titre de l'axe Y\n",
    "\n",
    "plt.show() # affiche le graphique\n"
   ]
  },
  {
   "cell_type": "markdown",
   "metadata": {},
   "source": [
    "7. <strong>Utiliser</strong> le même procédé pour afficher le graphique concernant les cellules en méiose dans la cellule ci-dessous."
   ]
  },
  {
   "cell_type": "code",
   "execution_count": null,
   "metadata": {},
   "outputs": [],
   "source": [
    "\n"
   ]
  },
  {
   "cell_type": "markdown",
   "metadata": {},
   "source": [
    "On se propose maintenant d'étudier le déplacement absolu de l'ouest de l'Islande avec la station Reyk à l'aide d'un programe Python, comme vous l'avez réalisé à l'aide d'un tableur. <br/>\n",
    "Le travail doit être réalisé en 2 étapes.<br/>\n",
    "La première étape consiste à importer les données issues du fichier Excel. Il faut utiliser la librairie \"Pandas\" qui va traiter les données sous forme de \"dataframe\", équivalent aux feuilles Excel et pouvoir les afficher.\n",
    "La deuxième étape va consister à afficher les données qui nous intéressent sous forme de nuage de points, puis de réaliser\n",
    "la droite de régression linéaire.<br/>\n",
    "L'exemple ci-après concernera l'onglet \"latitudes\" et doit être strong>exécuté</strong>.\n"
   ]
  },
  {
   "cell_type": "code",
   "execution_count": null,
   "metadata": {},
   "outputs": [],
   "source": [
    "# Etape 1\n",
    "import pandas as pd # importe la librairie pandas et utilise l'alias pd\n",
    "\n",
    "reyk1 = pd.read_excel('REYK.xlsx', sheet_name='REYK_latitudes') # met le fichier Excel désigné dans une dataframe nommée \n",
    "                                                                # reyk1. On travaille sur l'onglet \"latitudes\" du fichier\n",
    "                                                                # REYK. D'où le nom 'REYK_latitudes'\n",
    "\n",
    "print(reyk1) # affiche la dataframe"
   ]
  },
  {
   "cell_type": "code",
   "execution_count": null,
   "metadata": {},
   "outputs": [],
   "source": [
    "# Etape 2\n",
    "import matplotlib.pyplot as plt\n",
    "from scipy import stats\n",
    "from scipy.stats import linregress # importe la fonction de régression linéaire de la librairie scipy.stats\n",
    "import numpy as np\n",
    "\n",
    "x1 = [reyk1['Date']]          # la colonne \"Date\" est dans la variable x1\n",
    "y1 = [reyk1['Distance']]      # la colonne \"Distance\" est dans la variable y1\n",
    "\n",
    "plt.scatter(x1,y1,c=\"blue\")   # affiche un nuage de points avec les variable x1 et y1 en bleu\n",
    "\n",
    "plt.title('Variation de la distance latitudinale de Reyk en fonction du temps') # donne le titre du graphique\n",
    "plt.xlabel('Temps (année)')  # donne le titre de l'axe X\n",
    "plt.ylabel('Distance (cm)')  # donne le titre de l'axe Y\n",
    "\n",
    "plt.xlim(1996, 2005) # on définit les limites de l'axe X\n",
    "plt.ylim(-18, 2.5);    # on définit les limites de l'axe Y\n",
    "\n",
    "slope, intercept, r_value, p_value, std_err = stats.linregress(x1,y1)   # calcule les éléments de régression linéaire\n",
    "# slope = coefficient directeur, intercept = ordonnée à l'origine\n",
    "\n",
    "x=[] # On initialise la liste des abscisses\n",
    "y=[] # On initialise la liste des ordonnées\n",
    "pas = 1\n",
    "abscisse=1996\n",
    "\n",
    "def f(n) :                                       # On définit une fonction \n",
    "  return slope * n + intercept                  # de type y=ax+b correspondant à la droite de régression linéaire\n",
    "for j in range (1996,2006):                      # on initialise une boucle bornée entre 1996 et 2006\n",
    "    x.append(abscisse)                           # on incrémente la liste x avec la valeur d'abscisse\n",
    "    y.append(f(abscisse))                        # on incrémente la liste Y avec la valeur de f(abscisse)\n",
    "    abscisse+=pas\n",
    "     \n",
    "plt.plot(x,y,'r-')   #ici, on a f(n)=an+b qui s'affiche en rouge\n",
    "\n",
    "print(\"Coefficient directeur (Reyk_lat) =\",round(slope,2),\"cm/an\")\n",
    "print(\"Ordonnée à l'origine (Rey_lat) =\",round(intercept,2))\n",
    "print(\"Equation de la droite de régression linéaire (rouge) : y=\",round(slope,2),\"x\",round(intercept,2))\n",
    "\n",
    "plt.show()"
   ]
  },
  {
   "cell_type": "markdown",
   "metadata": {},
   "source": [
    "Votre graphique s'est affiché, bleu pour le nuage de point et en rouge pour la régression linéaire."
   ]
  },
  {
   "cell_type": "markdown",
   "metadata": {},
   "source": [
    "8. <strong>Réaliser</strong> les mêmes opérations avec l'onglet \"longitude\" en utilisant de nouvelles variables."
   ]
  },
  {
   "cell_type": "code",
   "execution_count": null,
   "metadata": {},
   "outputs": [],
   "source": []
  },
  {
   "cell_type": "code",
   "execution_count": null,
   "metadata": {},
   "outputs": [],
   "source": []
  }
 ],
 "metadata": {
  "kernelspec": {
   "display_name": "Python 3",
   "language": "python",
   "name": "python3"
  },
  "language_info": {
   "codemirror_mode": {
    "name": "ipython",
    "version": 3
   },
   "file_extension": ".py",
   "mimetype": "text/x-python",
   "name": "python",
   "nbconvert_exporter": "python",
   "pygments_lexer": "ipython3",
   "version": "3.7.6"
  }
 },
 "nbformat": 4,
 "nbformat_minor": 4
}
